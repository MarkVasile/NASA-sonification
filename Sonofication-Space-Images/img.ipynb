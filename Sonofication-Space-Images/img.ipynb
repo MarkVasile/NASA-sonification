{
 "cells": [
  {
   "cell_type": "code",
   "execution_count": 2,
   "metadata": {},
   "outputs": [],
   "source": [
    "#import the libraries\n",
    "import cv2 as cv\n",
    "import numpy as np"
   ]
  },
  {
   "cell_type": "markdown",
   "metadata": {},
   "source": [
    "# Get some images"
   ]
  },
  {
   "cell_type": "code",
   "execution_count": 3,
   "metadata": {},
   "outputs": [],
   "source": [
    "#read the image\n",
    "img = cv.imread(\"Screenshot.png\")\n",
    "\n",
    "#convert the BGR image to HSV colour space\n",
    "rgb = cv.cvtColor(img, cv.COLOR_BGR2RGB)\n",
    "gray = cv.cvtColor(img,cv.COLOR_BGR2GRAY)"
   ]
  },
  {
   "cell_type": "code",
   "execution_count": 5,
   "metadata": {},
   "outputs": [
    {
     "data": {
      "text/plain": [
       "73.0"
      ]
     },
     "execution_count": 5,
     "metadata": {},
     "output_type": "execute_result"
    }
   ],
   "source": [
    "ret, thresh = cv.threshold(gray,0,255,cv.THRESH_BINARY_INV+cv.THRESH_OTSU)"
   ]
  },
  {
   "cell_type": "markdown",
   "metadata": {},
   "source": [
    "# Ranges"
   ]
  },
  {
   "cell_type": "code",
   "execution_count": 6,
   "metadata": {},
   "outputs": [],
   "source": [
    "# set the lower and upper bounds for the color\n",
    "# lower_green = np.array(average)\n",
    "# lower_green = average\n",
    "average = img.mean(axis=0).mean(axis=0)\n",
    "increment = lambda x: x+100\n",
    "decrement = lambda x: x-100\n",
    "lower_green = np.array([decrement(xi) for xi in average])\n",
    "upper_green = np.array([increment(xi) for xi in average])"
   ]
  },
  {
   "cell_type": "markdown",
   "metadata": {},
   "source": [
    "# Math Imgs"
   ]
  },
  {
   "cell_type": "code",
   "execution_count": 7,
   "metadata": {},
   "outputs": [],
   "source": [
    "#create a mask for green colour using inRange function\n",
    "mask = cv.inRange(rgb, lower_green, upper_green)\n",
    "\n",
    "#perform bitwise and on the original image arrays using the mask\n",
    "res = cv.bitwise_and(rgb, rgb, mask=mask)\n",
    "anti_res = cv.bitwise_not(rgb, rgb, mask=mask)"
   ]
  },
  {
   "cell_type": "markdown",
   "metadata": {},
   "source": [
    "# Windows"
   ]
  },
  {
   "cell_type": "code",
   "execution_count": 8,
   "metadata": {},
   "outputs": [
    {
     "ename": "",
     "evalue": "",
     "output_type": "error",
     "traceback": [
      "\u001b[1;31mThe Kernel crashed while executing code in the the current cell or a previous cell. Please review the code in the cell(s) to identify a possible cause of the failure. Click <a href='https://aka.ms/vscodeJupyterKernelCrash'>here</a> for more info. View Jupyter <a href='command:jupyter.viewOutput'>log</a> for further details."
     ]
    }
   ],
   "source": [
    "#create resizable windows for displaying the images\n",
    "cv.namedWindow(\"res\", cv.WINDOW_NORMAL)\n",
    "# cv.namedWindow(\"Segmented Image\", cv.WINDOW_NORMAL)\n",
    "# cv.namedWindow(\"hsv\", cv.WINDOW_NORMAL)\n",
    "cv.namedWindow(\"mask\", cv.WINDOW_NORMAL)\n",
    "cv.namedWindow(\"anti_res\", cv.WINDOW_NORMAL)\n",
    "\n",
    "#display the images\n",
    "cv.imshow(\"mask\", mask)\n",
    "# cv.imshow(\"hsv\", img)\n",
    "cv.imshow(\"res\", res)\n",
    "cv.imshow(\"anti_res\", anti_res)\n",
    "\n",
    "cv.waitKey(0)\n",
    "cv.destroyAllWindows()"
   ]
  }
 ],
 "metadata": {
  "kernelspec": {
   "display_name": "Python 3",
   "language": "python",
   "name": "python3"
  },
  "language_info": {
   "codemirror_mode": {
    "name": "ipython",
    "version": 3
   },
   "file_extension": ".py",
   "mimetype": "text/x-python",
   "name": "python",
   "nbconvert_exporter": "python",
   "pygments_lexer": "ipython3",
   "version": "3.11.5"
  },
  "orig_nbformat": 4
 },
 "nbformat": 4,
 "nbformat_minor": 2
}
